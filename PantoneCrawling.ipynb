{
 "cells": [
  {
   "cell_type": "code",
   "execution_count": 1,
   "metadata": {
    "collapsed": true
   },
   "outputs": [],
   "source": [
    "from urllib.request import urlopen\n",
    "from bs4 import BeautifulSoup\n",
    "import re\n",
    "from urllib.request import urlretrieve"
   ]
  },
  {
   "cell_type": "code",
   "execution_count": 2,
   "metadata": {
    "collapsed": true
   },
   "outputs": [],
   "source": [
    "def getLinks(num):\n",
    "    html=urlopen(\"http://humanae.tumblr.com/post/\"+num+\"/\")\n",
    "    bs0bj = BeautifulSoup(html,\"html.parser\")\n",
    "    r = bs0bj.find(\"li\",{\"class\":\"stash-next-btn close-pn\"}).find(\"a\",{\"href\":re.compile(\"http://humanae\\.tumblr\\.com/post/.*\")})\n",
    "    return r.attrs['href'][31:]"
   ]
  },
  {
   "cell_type": "code",
   "execution_count": 48,
   "metadata": {
    "collapsed": true
   },
   "outputs": [],
   "source": [
    "def getImage(imgNum, jpgNum):\n",
    "    html=urlopen(\"http://humanae.tumblr.com/post/\"+imgNum+\"/\")\n",
    "    bs0bj = BeautifulSoup(html,\"html.parser\")\n",
    "    imgSrc = bs0bj.find(\"div\",{\"class\":\"page-container\"}).find(\"div\",{\"class\":\"media\"}).find(\"img\")[\"src\"]\n",
    "    imgName = \"pantone\"+str(jpgNum)+\".jpg\"\n",
    "    urlretrieve(imgSrc,imgName)"
   ]
  },
  {
   "cell_type": "code",
   "execution_count": 47,
   "metadata": {},
   "outputs": [
    {
     "name": "stdout",
     "output_type": "stream",
     "text": [
      "currNum=100068898283\n",
      "getLinks(currNum)=100065102035\n"
     ]
    }
   ],
   "source": [
    "currNum = \"100068898283\"\n",
    "print(\"currNum=\"+currNum)\n",
    "print(\"getLinks(currNum)=\"+getLinks(currNum))"
   ]
  },
  {
   "cell_type": "code",
   "execution_count": null,
   "metadata": {
    "collapsed": true
   },
   "outputs": [],
   "source": [
    "jpgNum= 1775"
   ]
  },
  {
   "cell_type": "code",
   "execution_count": null,
   "metadata": {
    "collapsed": true
   },
   "outputs": [],
   "source": [
    "while(true):\n",
    "    nextNum = getLinks(getLinks(currNum))\n",
    "    getImg(nextNum,jpgNum)\n",
    "    print(nextNum)\n",
    "    jpgNum+=1\n",
    "    nextNum = getLinks(currNum)\n",
    "    currNum = getLinks(nextNum)  "
   ]
  },
  {
   "cell_type": "markdown",
   "metadata": {},
   "source": [
    "\n",
    "    "
   ]
  },
  {
   "cell_type": "code",
   "execution_count": null,
   "metadata": {
    "collapsed": true
   },
   "outputs": [],
   "source": []
  }
 ],
 "metadata": {
  "kernelspec": {
   "display_name": "Python 3",
   "language": "python",
   "name": "python3"
  },
  "language_info": {
   "codemirror_mode": {
    "name": "ipython",
    "version": 3
   },
   "file_extension": ".py",
   "mimetype": "text/x-python",
   "name": "python",
   "nbconvert_exporter": "python",
   "pygments_lexer": "ipython3",
   "version": "3.6.3"
  }
 },
 "nbformat": 4,
 "nbformat_minor": 2
}
